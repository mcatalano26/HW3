{
 "cells": [
  {
   "cell_type": "markdown",
   "metadata": {},
   "source": [
    "# Computational Physics HW 3\n",
    "## Matt Catalano and Ian Pimenta"
   ]
  },
  {
   "cell_type": "markdown",
   "metadata": {},
   "source": [
    "### Problem 1"
   ]
  },
  {
   "cell_type": "code",
   "execution_count": 35,
   "metadata": {},
   "outputs": [
    {
     "name": "stdout",
     "output_type": "stream",
     "text": [
      "Linear Fit Final Results\n",
      "\n",
      "y(x) = a + b x\n",
      "a =  3.517370894128999 +/- 0.5788623196249563\n",
      "b =  -0.034678369921285535 +/- 0.008362420100070907\n",
      "correlation = -0.8667781422175382\n"
     ]
    },
    {
     "data": {
      "image/png": "[encoded data removed]",
      "text/plain": [
       "<Figure size 432x288 with 1 Axes>"
      ]
     },
     "metadata": {
      "needs_background": "light"
     },
     "output_type": "display_data"
    }
   ],
   "source": [
    "\"\"\" From \"COMPUTATIONAL PHYSICS\", 3rd Ed, Enlarged Python eTextBook  \n",
    "    by RH Landau, MJ Paez, and CC Bordeianu\n",
    "    Copyright Wiley-VCH Verlag GmbH & Co. KGaA, Berlin;  Copyright R Landau,\n",
    "    Oregon State Unv, MJ Paez, Univ Antioquia, C Bordeianu, Univ Bucharest, 2015.\n",
    "    Support by National Science Foundation\n",
    "    \n",
    "    adapted by Lev Kaplan in 2019 for linear decay fit y(x) = a + b x \"\"\"\n",
    " \n",
    "from pylab  import*\n",
    "\n",
    "x = range(5,120,10)    # time from 5 to 115 in steps of 10 (12 points)\n",
    "Nd = len(x)   # number of data points\n",
    "y = log([32,17,21,7,8,6,5,2,2,0.1,4,1])   # log of number of counts\n",
    "sig = [1] * 12   # error bars all set to 1\n",
    "\n",
    "plot(x, y, 'bo', label = 'experimental data' )                                   # Plot data in blue\n",
    "\n",
    "errorbar(x,y,sig)                                     # Plot error bars\n",
    "title('Linear Least Squares Fit')                        # Plot figure\n",
    "xlabel( 'Time [ns]' )                                            # Label axes\n",
    "ylabel( 'log(Number)' )\n",
    "grid(True)                                               # plot grid\n",
    "xlim(0,120)                                              # x range for plot\n",
    "\n",
    "ss = sx = sxx = sy = sxy = 0   # initialize various sums\n",
    "\n",
    "for i in range(0, Nd):         # compute various sums over data points                              \n",
    "    sig2 = sig[i] * sig[i]\n",
    "    ss += 1. / sig2;    sx += x[i]/sig2;        sy += y[i]/sig2\n",
    "    sxx += x[i] * x[i]/sig2;    sxy += x[i]*y[i]/sig2;\n",
    "         \n",
    "delta = ss*sxx-sx*sx\n",
    "slope = (ss*sxy-sx*sy) / delta    #calculate best fit slope\n",
    "inter = (sxx*sy-sx*sxy) / delta   # calculate best fit intercept\n",
    "      \n",
    "print('Linear Fit Final Results\\n') \n",
    "print('y(x) = a + b x')                          # Desired fit\n",
    "print('a = ', inter, '+/-', sqrt(sxx/delta))                  \n",
    "print('b = ', slope, '+/-', sqrt(ss/delta))\n",
    "print('correlation =',-sx/sqrt(sxx*ss))\n",
    "\n",
    "# red line is the fit, red dots the fits at y[i]\n",
    "t = range(0,120,1)\n",
    "curve  = inter + slope*t\n",
    "points = inter + slope*x\n",
    "plot(t, curve,'r', label='fitted curve')\n",
    "plot(x, points, 'ro', label='fitted data points')\n",
    "legend(loc = 'lower left')\n",
    "show()"
   ]
  },
  {
   "cell_type": "markdown",
   "metadata": {},
   "source": [
    "Demonstration of linear least squares fit obtained from pi meson decay experiment"
   ]
  },
  {
   "cell_type": "markdown",
   "metadata": {},
   "source": [
    "When y(x) = 0, we will have the lifetime of the pi meson. 0 = a + bx. x = -a/b"
   ]
  },
  {
   "cell_type": "code",
   "execution_count": 36,
   "metadata": {},
   "outputs": [
    {
     "name": "stdout",
     "output_type": "stream",
     "text": [
      "Tau = 101.42838034523767 +/- 69.2218655243173\n"
     ]
    }
   ],
   "source": [
    "tau = -inter/slope\n",
    "inter_uncertainty = sqrt(sxx/delta)\n",
    "slope_uncertainty = sqrt(ss/delta)\n",
    "uncertainty = inter_uncertainty/slope_uncertainty\n",
    "print('Tau = ' + str(tau) + ' +/- ' + str(uncertainty))"
   ]
  },
  {
   "cell_type": "markdown",
   "metadata": {},
   "source": [
    "This means that the experimental lifetime of the pi meson is 1.01428 x 10^-7 s. This is much larger than the tabulated lifetime of 2.6 x 10^-8 seconds."
   ]
  },
  {
   "cell_type": "markdown",
   "metadata": {},
   "source": [
    "The correlation is ~ -0.867. Because this is close to -1, we can say that there is a strong, negative correlation between the two parameters (intercept and slope). The negative correlation makes sense because this means that the intercept and slope are inversely proportional. As the intercept increases (initial count), the slope will decrease (become more negative) because the slope will always hit zero at the same point (at the end of the pi meson lifetime)"
   ]
  },
  {
   "cell_type": "markdown",
   "metadata": {},
   "source": [
    "### Problem 2"
   ]
  },
  {
   "cell_type": "markdown",
   "metadata": {},
   "source": [
    "y_i = log(n_i)\n",
    "\n",
    "dy_i = (1/n_i)dn_i\n",
    "\n",
    "dn_i = (n_i)^0.5\n",
    "\n",
    "dy_i = (1/n_i)*(n_i)^0.5\n",
    "\n",
    "dy_i = (n_i)^-0.5"
   ]
  },
  {
   "cell_type": "code",
   "execution_count": 37,
   "metadata": {},
   "outputs": [
    {
     "name": "stdout",
     "output_type": "stream",
     "text": [
      "Linear Fit Final Results\n",
      "\n",
      "y(x) = a + b x\n",
      "intercept =  3.494451334553311 +/- 0.14368984243070387\n",
      "slope =  -0.028429280769792613 +/- 0.003618512998226424\n",
      "correlation = -0.7342787807954047\n"
     ]
    },
    {
     "data": {
      "image/png": "[encoded data removed]",
      "text/plain": [
       "<Figure size 432x288 with 1 Axes>"
      ]
     },
     "metadata": {
      "needs_background": "light"
     },
     "output_type": "display_data"
    }
   ],
   "source": [
    "import numpy as np\n",
    "x = range(5,120,10)    # time from 5 to 115 in steps of 10 (12 points)\n",
    "Nd = len(x)   # number of data points\n",
    "n_i = [32,17,21,7,8,6,5,2,2,0.1,4,1]\n",
    "n_i = np.array(n_i)\n",
    "\n",
    "y = log(n_i)   # log of number of counts\n",
    "\n",
    "sig = n_i**-0.5 #error bars set more realistically\n",
    "\n",
    "plot(x, y, 'bo', label = 'experimental data' )                                   # Plot data in blue\n",
    "\n",
    "errorbar(x,y,sig)                                     # Plot error bars\n",
    "title('Linear Least Squares Fit')                        # Plot figure\n",
    "xlabel( 'Time [ns]' )                                            # Label axes\n",
    "ylabel( 'log(Number)' )\n",
    "grid(True)                                               # plot grid\n",
    "xlim(0,120)                                              # x range for plot\n",
    "\n",
    "ss = sx = sxx = sy = sxy = 0   # initialize various sums\n",
    "\n",
    "for i in range(0, Nd):         # compute various sums over data points                              \n",
    "    sig2 = sig[i] * sig[i]\n",
    "    ss += 1. / sig2;    sx += x[i]/sig2;        sy += y[i]/sig2\n",
    "    sxx += x[i] * x[i]/sig2;    sxy += x[i]*y[i]/sig2;\n",
    "         \n",
    "delta = ss*sxx-sx*sx\n",
    "slope = (ss*sxy-sx*sy) / delta    #calculate best fit slope\n",
    "inter = (sxx*sy-sx*sxy) / delta   # calculate best fit intercept\n",
    "      \n",
    "print('Linear Fit Final Results\\n') \n",
    "print('y(x) = a + b x')                          # Desired fit\n",
    "print('intercept = ', inter, '+/-', sqrt(sxx/delta))                  \n",
    "print('slope = ', slope, '+/-', sqrt(ss/delta))\n",
    "print('correlation =',-sx/sqrt(sxx*ss))\n",
    "\n",
    "# red line is the fit, red dots the fits at y[i]\n",
    "t = range(0,120,1)\n",
    "curve  = inter + slope*t\n",
    "points = inter + slope*x\n",
    "plot(t, curve,'r', label='fitted curve')\n",
    "plot(x, points, 'ro', label='fitted data points')\n",
    "legend(loc = 'lower left')\n",
    "show()"
   ]
  },
  {
   "cell_type": "markdown",
   "metadata": {},
   "source": [
    "The intercept and slope did, in fact, change between problem 1 and problem 2. The intercept decreased slightly and the slope became less negative. "
   ]
  },
  {
   "cell_type": "code",
   "execution_count": 38,
   "metadata": {},
   "outputs": [
    {
     "name": "stdout",
     "output_type": "stream",
     "text": [
      "New Tau = 122.91733170634139 +/- 39.70963832412152\n"
     ]
    }
   ],
   "source": [
    "tau = -inter/slope\n",
    "inter_uncertainty = sqrt(sxx/delta)\n",
    "slope_uncertainty = sqrt(ss/delta)\n",
    "uncertainty = inter_uncertainty/slope_uncertainty\n",
    "print('New Tau = ' + str(tau) + ' +/- ' + str(uncertainty))"
   ]
  },
  {
   "cell_type": "code",
   "execution_count": 39,
   "metadata": {},
   "outputs": [
    {
     "data": {
      "text/plain": [
       "-528.3118221008931"
      ]
     },
     "execution_count": 39,
     "metadata": {},
     "output_type": "execute_result"
    }
   ],
   "source": [
    "chi_2 = np.sum((y - (inter + slope * x)**2)/(sig)**2)\n",
    "chi_2"
   ]
  },
  {
   "cell_type": "markdown",
   "metadata": {},
   "source": [
    "We are unsure how to interpret this chi^2 value of -528"
   ]
  },
  {
   "cell_type": "markdown",
   "metadata": {},
   "source": [
    "### Problem 3"
   ]
  },
  {
   "cell_type": "code",
   "execution_count": 40,
   "metadata": {},
   "outputs": [
    {
     "name": "stdout",
     "output_type": "stream",
     "text": [
      "1 2.3  1.1\n",
      "\n",
      "2 4.2  2.3\n",
      "\n",
      "3 7.6  2.1\n",
      "\n",
      "4 15.4  2.7\n",
      "\n",
      "5 28.9  3.3\n",
      "\n",
      "6 40.0  4.2\n",
      "best fit parameters a,b,c = [ 4.31349275 -3.61330881  1.62902431]\n",
      "covariance matrix for the parameters a,b,c =\n",
      " [[ 1.48343423 -1.2247803   0.18654789]\n",
      " [-1.2247803   1.17393995 -0.1894382 ]\n",
      " [ 0.18654789 -0.1894382   0.03223888]]\n",
      "uncertainties in parameters = [1.21796315 1.0834851  0.1795519 ]\n"
     ]
    },
    {
     "data": {
      "image/png": "[encoded data removed]",
      "text/plain": [
       "<Figure size 432x288 with 1 Axes>"
      ]
     },
     "metadata": {
      "needs_background": "light"
     },
     "output_type": "display_data"
    }
   ],
   "source": [
    "\"\"\" Example of curve fitting using scipy.optimize package\n",
    "    Performs chi squared fit of data insample.txt file to qudratic function\n",
    "    \n",
    "    Lev Kaplan 2019\"\"\"\n",
    "\n",
    "# Nonlinfit.py: Langrange interpolation tabulated data\n",
    "    \n",
    "from pylab import *\n",
    "from scipy.optimize import curve_fit   # chi squared fitting\n",
    "\n",
    "def func(x,a,b,c):   # define functional form\n",
    "    return a + b*x + c*x*x\n",
    "\n",
    "NMAX = 1000  # max number of input points\n",
    "\n",
    "xin = zeros(NMAX)  # each is array of length NMAX, all elements set to zero\n",
    "yin = zeros(NMAX)\n",
    "sig = zeros(NMAX)\n",
    "\n",
    "inputfile = open(\"sample.txt\",\"r\")  # read in the input x,y values\n",
    "r = inputfile.readlines()  # read the whole file into list (one item per line)\n",
    "inputfile.close()\n",
    "        # input has the form: x0 y0 sig0\n",
    "        #                     x1 y1 sig1\n",
    "        #                     ...\n",
    "\n",
    "m = 0\n",
    "for line in r:\n",
    "    print(line)\n",
    "    s = line.split() # split line and split into list of items(assume items separated by spaces)\n",
    "    xin[m] = s[0] # first number in each line is the x value\n",
    "    yin[m] = s[1]\n",
    "    sig[m] = s[2]\n",
    "    m+=1         # m is total number of input data points\n",
    "                 # will be stored in xin[0]..xin[n-1],yin[0]..yin[n-1]\n",
    "\n",
    "popt,pcov = curve_fit(func, xin[0:m], yin[0:m], p0=[1,2,0], sigma=sig[0:m])\n",
    "\n",
    "print(\"best fit parameters a,b,c =\",popt)\n",
    "\n",
    "print(\"covariance matrix for the parameters a,b,c =\\n\",pcov)\n",
    "\n",
    "print(\"uncertainties in parameters =\",sqrt(diag(pcov)))\n",
    "\n",
    "xvalues = linspace(0,7,100)\n",
    "yvalues = func(xvalues,popt[0],popt[1],popt[2])\n",
    "\n",
    "errorbar(xin[0:m],yin[0:m],sig[0:m],fmt=\"o\",label=\"input data\")\n",
    "plot(xvalues,yvalues,\"b-\",label=\"quadratic fit\")\n",
    "legend(loc=\"upper right\")\n",
    "show()"
   ]
  },
  {
   "cell_type": "code",
   "execution_count": 59,
   "metadata": {},
   "outputs": [
    {
     "name": "stdout",
     "output_type": "stream",
     "text": [
      "0\t10.6\n",
      "\n",
      "25\t16\n",
      "\n",
      "50\t45\n",
      "\n",
      "75\t83.5\n",
      "\n",
      "100\t52.8\n",
      "\n",
      "125\t19.9\n",
      "\n",
      "150\t10.8\n",
      "\n",
      "175\t8.25\n",
      "\n",
      "200\t4.7\n",
      "best fit parameters a,b,c = [8.50351900e+01 1.29296779e-03 7.76567936e+01]\n",
      "covariance matrix for the parameters a,b,c =\n",
      " [[1.57801760e+01 3.62087652e-04 2.82438804e-01]\n",
      " [3.62087652e-04 1.36492580e-08 1.17080812e-05]\n",
      " [2.82438804e-01 1.17080812e-05 1.23053948e+00]]\n",
      "uncertainties in parameters = [3.97242697e+00 1.16830039e-04 1.10929684e+00]\n"
     ]
    },
    {
     "data": {
      "image/png": "[encoded data removed]",
      "text/plain": [
       "<Figure size 432x288 with 1 Axes>"
      ]
     },
     "metadata": {
      "needs_background": "light"
     },
     "output_type": "display_data"
    }
   ],
   "source": [
    "\"\"\" Example of curve fitting using scipy.optimize package\n",
    "    Performs chi squared fit of data insample.txt file to qudratic function\n",
    "    \n",
    "    Lev Kaplan 2019\"\"\"\n",
    "\n",
    "# Nonlinfit.py: Langrange interpolation tabulated data\n",
    "    \n",
    "from pylab import *\n",
    "from scipy.optimize import curve_fit   # chi squared fitting\n",
    "\n",
    "def func(x,a,b,c):   # define functional form\n",
    "    return a/(1+b*(x-c)**2)\n",
    "\n",
    "NMAX = 1000  # max number of input points\n",
    "\n",
    "xin = zeros(NMAX)  # each is array of length NMAX, all elements set to zero\n",
    "yin = zeros(NMAX)\n",
    "sig = zeros(NMAX)\n",
    "k = 1\n",
    "inputfile = open(\"lagrange.dat\",\"r\")  # read in the input x,y values\n",
    "r = inputfile.readlines()  # read the whole file into list (one item per line)\n",
    "inputfile.close()\n",
    "        # input has the form: x0 y0 sig0\n",
    "        #                     x1 y1 sig1\n",
    "        #                     ...\n",
    "\n",
    "m = 0\n",
    "for line in r:\n",
    "    print(line)\n",
    "    s = line.split() # split line and split into list of items(assume items separated by spaces)\n",
    "    xin[m] = s[0] # first number in each line is the x value\n",
    "    yin[m] = s[1]\n",
    "    sig[m] = k * (float(s[1])**0.5)\n",
    "    m+=1         # m is total number of input data points\n",
    "                 # will be stored in xin[0]..xin[n-1],yin[0]..yin[n-1]\n",
    "\n",
    "popt,pcov = curve_fit(func, xin[0:m], yin[0:m], p0=[5, 7, 9], sigma=sig[0:m])\n",
    "\n",
    "print(\"best fit parameters a,b,c =\",popt)\n",
    "\n",
    "print(\"covariance matrix for the parameters a,b,c =\\n\",pcov)\n",
    "\n",
    "print(\"uncertainties in parameters =\",sqrt(diag(pcov)))\n",
    "\n",
    "xvalues = linspace(0,200,100)\n",
    "yvalues = func(xvalues,popt[0],popt[1],popt[2])\n",
    "\n",
    "errorbar(xin[0:m],yin[0:m],sig[0:m],fmt=\"o\",label=\"input data\")\n",
    "plot(xvalues,yvalues,\"b-\",label=\"quadratic fit\")\n",
    "legend(loc=\"upper right\")\n",
    "show()"
   ]
  },
  {
   "cell_type": "markdown",
   "metadata": {},
   "source": [
    "We are not sure what the physical meaning of each parameter is or what the signs of the correlations (covariance matrix elements) between the parameters mean"
   ]
  },
  {
   "cell_type": "code",
   "execution_count": null,
   "metadata": {},
   "outputs": [],
   "source": []
  }
 ],
 "metadata": {
  "kernelspec": {
   "display_name": "Python 3",
   "language": "python",
   "name": "python3"
  },
  "language_info": {
   "codemirror_mode": {
    "name": "ipython",
    "version": 3
   },
   "file_extension": ".py",
   "mimetype": "text/x-python",
   "name": "python",
   "nbconvert_exporter": "python",
   "pygments_lexer": "ipython3",
   "version": "3.7.4"
  }
 },
 "nbformat": 4,
 "nbformat_minor": 2
}
